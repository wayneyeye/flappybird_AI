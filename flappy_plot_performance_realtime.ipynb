{
 "cells": [
  {
   "cell_type": "code",
   "execution_count": 1,
   "metadata": {},
   "outputs": [],
   "source": [
    "import pandas as pd\n",
    "import numpy as np\n",
    "from matplotlib import pyplot as plt\n",
    "from time import sleep\n",
    "from IPython.display import clear_output\n",
    "%matplotlib inline  "
   ]
  },
  {
   "cell_type": "code",
   "execution_count": null,
   "metadata": {},
   "outputs": [],
   "source": [
    "df.columns"
   ]
  },
  {
   "cell_type": "code",
   "execution_count": null,
   "metadata": {},
   "outputs": [],
   "source": [
    "#naive qlearn\n",
    "while True:\n",
    "    csv_path=\"temp_log/naive_qlearning_03.csv\"\n",
    "    try:\n",
    "        df=pd.read_csv(csv_path)\n",
    "    except:\n",
    "        print(\"error reading csv, try later...\")\n",
    "\n",
    "    plt.subplot(3,1,1)\n",
    "    # plt.plot(df['iter'],df['last_1_avg'])\n",
    "    plt.plot(df['iter'],df['last_10_avg'])\n",
    "    plt.plot(df['iter'],df['last_100_avg'])\n",
    "    plt.plot(df['iter'],df['max_score_log'])\n",
    "    plt.subplot(3,1,2)\n",
    "    plt.plot(df['iter'][df['iter']!=0],df['max_diff'][df['iter']!=0])\n",
    "    plt.subplot(3,1,3)\n",
    "    plt.plot(df['iter'][df['iter']!=0],df['sum_diff'][df['iter']!=0])\n",
    "    clear_output(wait=True)\n",
    "    plt.show()\n",
    "    sleep(5)"
   ]
  },
  {
   "cell_type": "code",
   "execution_count": null,
   "metadata": {},
   "outputs": [],
   "source": [
    "#DQN 4 engineered input\n",
    "while True:\n",
    "    csv_path=\"temp_log/dqn_4_engineered_05.csv\"\n",
    "    try:\n",
    "        df=pd.read_csv(csv_path)\n",
    "    except:\n",
    "        print(\"error reading csv, try later...\")\n",
    "    df.columns\n",
    "\n",
    "    plt.subplot(2,2,1)\n",
    "    plt.plot(df['iter'],df['learning_rate'])\n",
    "    plt.subplot(2,2,2)\n",
    "    plt.plot(df['iter'],df['epsilon'])\n",
    "\n",
    "    plt.subplot(2,2,3)\n",
    "    plt.plot(df['iter'],df['last_1_avg'])\n",
    "    plt.plot(df['iter'],df['last_10_avg'])\n",
    "    plt.plot(df['iter'],df['last_100_avg'])\n",
    "    plt.plot(df['iter'],df['max_score_log'])\n",
    "    plt.subplot(2,2,4)\n",
    "    plt.plot(df['iter'][df['iter']!=0],df['loss_train'][df['iter']!=0])\n",
    "\n",
    "    clear_output(wait=True)\n",
    "    plt.show()\n",
    "#     sleep(5)\n",
    "    "
   ]
  },
  {
   "cell_type": "code",
   "execution_count": 5,
   "metadata": {},
   "outputs": [
    {
     "data": {
      "image/png": "[encoded data removed]",
      "text/plain": [
       "<Figure size 432x288 with 4 Axes>"
      ]
     },
     "metadata": {},
     "output_type": "display_data"
    },
    {
     "ename": "KeyboardInterrupt",
     "evalue": "",
     "output_type": "error",
     "traceback": [
      "\u001b[1;31m---------------------------------------------------------------------------\u001b[0m",
      "\u001b[1;31mKeyboardInterrupt\u001b[0m                         Traceback (most recent call last)",
      "\u001b[1;32m<ipython-input-5-493572ced2f0>\u001b[0m in \u001b[0;36m<module>\u001b[1;34m()\u001b[0m\n\u001b[0;32m     23\u001b[0m     \u001b[0mclear_output\u001b[0m\u001b[1;33m(\u001b[0m\u001b[0mwait\u001b[0m\u001b[1;33m=\u001b[0m\u001b[1;32mTrue\u001b[0m\u001b[1;33m)\u001b[0m\u001b[1;33m\u001b[0m\u001b[0m\n\u001b[0;32m     24\u001b[0m     \u001b[0mplt\u001b[0m\u001b[1;33m.\u001b[0m\u001b[0mshow\u001b[0m\u001b[1;33m(\u001b[0m\u001b[1;33m)\u001b[0m\u001b[1;33m\u001b[0m\u001b[0m\n\u001b[1;32m---> 25\u001b[1;33m     \u001b[0msleep\u001b[0m\u001b[1;33m(\u001b[0m\u001b[1;36m5\u001b[0m\u001b[1;33m)\u001b[0m\u001b[1;33m\u001b[0m\u001b[0m\n\u001b[0m\u001b[0;32m     26\u001b[0m \u001b[1;33m\u001b[0m\u001b[0m\n",
      "\u001b[1;31mKeyboardInterrupt\u001b[0m: "
     ]
    }
   ],
   "source": [
    "#DQN CNN/CAE\n",
    "while True:\n",
    "    csv_path=\"temp_log/dqn_cnn_02.csv\"\n",
    "    try:\n",
    "        df=pd.read_csv(csv_path)\n",
    "    except:\n",
    "        print(\"error reading csv, try later...\")\n",
    "    df.columns\n",
    "\n",
    "    plt.subplot(2,2,1)\n",
    "    plt.plot(df['iter'],df['learning_rate'])\n",
    "    plt.subplot(2,2,2)\n",
    "    plt.plot(df['iter'],df['epsilon'])\n",
    "\n",
    "    plt.subplot(2,2,3)\n",
    "#     plt.plot(df['iter'],df['last_1_avg'])\n",
    "    plt.plot(df['iter'],df['last_10_avg'])\n",
    "    plt.plot(df['iter'],df['last_100_avg'])\n",
    "    plt.plot(df['iter'],df['max_score_log'])\n",
    "    plt.subplot(2,2,4)\n",
    "    plt.plot(df['iter'][df['iter']>=1],df['loss_predict'][df['iter']>=1])\n",
    "\n",
    "    clear_output(wait=True)\n",
    "    plt.show()\n",
    "    sleep(3)\n",
    "    "
   ]
  }
 ],
 "metadata": {
  "kernelspec": {
   "display_name": "Python 3",
   "language": "python",
   "name": "python3"
  },
  "language_info": {
   "codemirror_mode": {
    "name": "ipython",
    "version": 3
   },
   "file_extension": ".py",
   "mimetype": "text/x-python",
   "name": "python",
   "nbconvert_exporter": "python",
   "pygments_lexer": "ipython3",
   "version": "3.6.4"
  }
 },
 "nbformat": 4,
 "nbformat_minor": 2
}
