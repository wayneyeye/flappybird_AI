{
 "cells": [
  {
   "cell_type": "code",
   "execution_count": 1,
   "metadata": {},
   "outputs": [],
   "source": [
    "import pandas as pd\n",
    "import numpy as np\n",
    "from matplotlib import pyplot as plt\n",
    "from time import sleep\n",
    "from IPython.display import clear_output\n",
    "%matplotlib inline  "
   ]
  },
  {
   "cell_type": "code",
   "execution_count": null,
   "metadata": {},
   "outputs": [],
   "source": [
    "df.columns"
   ]
  },
  {
   "cell_type": "code",
   "execution_count": null,
   "metadata": {},
   "outputs": [],
   "source": [
    "#naive qlearn\n",
    "while True:\n",
    "    csv_path=\"temp_log/naive_qlearning_03.csv\"\n",
    "    try:\n",
    "        df=pd.read_csv(csv_path)\n",
    "    except:\n",
    "        print(\"error reading csv, try later...\")\n",
    "\n",
    "    plt.subplot(3,1,1)\n",
    "    # plt.plot(df['iter'],df['last_1_avg'])\n",
    "    plt.plot(df['iter'],df['last_10_avg'])\n",
    "    plt.plot(df['iter'],df['last_100_avg'])\n",
    "    plt.plot(df['iter'],df['max_score_log'])\n",
    "    plt.subplot(3,1,2)\n",
    "    plt.plot(df['iter'][df['iter']!=0],df['max_diff'][df['iter']!=0])\n",
    "    plt.subplot(3,1,3)\n",
    "    plt.plot(df['iter'][df['iter']!=0],df['sum_diff'][df['iter']!=0])\n",
    "    clear_output(wait=True)\n",
    "    plt.show()\n",
    "    sleep(5)"
   ]
  },
  {
   "cell_type": "code",
   "execution_count": null,
   "metadata": {},
   "outputs": [],
   "source": [
    "#DQN 4 engineered input\n",
    "while True:\n",
    "    csv_path=\"temp_log/dqn_4_engineered_05.csv\"\n",
    "    try:\n",
    "        df=pd.read_csv(csv_path)\n",
    "    except:\n",
    "        print(\"error reading csv, try later...\")\n",
    "    df.columns\n",
    "\n",
    "    plt.subplot(2,2,1)\n",
    "    plt.plot(df['iter'],df['learning_rate'])\n",
    "    plt.subplot(2,2,2)\n",
    "    plt.plot(df['iter'],df['epsilon'])\n",
    "\n",
    "    plt.subplot(2,2,3)\n",
    "    plt.plot(df['iter'],df['last_1_avg'])\n",
    "    plt.plot(df['iter'],df['last_10_avg'])\n",
    "    plt.plot(df['iter'],df['last_100_avg'])\n",
    "    plt.plot(df['iter'],df['max_score_log'])\n",
    "    plt.subplot(2,2,4)\n",
    "    plt.plot(df['iter'][df['iter']!=0],df['loss_train'][df['iter']!=0])\n",
    "\n",
    "    clear_output(wait=True)\n",
    "    plt.show()\n",
    "#     sleep(5)\n",
    "    "
   ]
  },
  {
   "cell_type": "code",
   "execution_count": null,
   "metadata": {
    "scrolled": true
   },
   "outputs": [
    {
     "data": {
      "image/png": "[encoded data removed]",
      "text/plain": [
       "<Figure size 432x288 with 4 Axes>"
      ]
     },
     "metadata": {},
     "output_type": "display_data"
    }
   ],
   "source": [
    "#DQN CNN/CAE\n",
    "max_len=0\n",
    "while True:\n",
    "    csv_path=\"temp_log/dqn_cnn_10_test.csv\"\n",
    "    try:\n",
    "        df=pd.read_csv(csv_path)\n",
    "    except:\n",
    "        print(\"error reading csv, try later...\")\n",
    "    current_len=len(df)\n",
    "    if current_len>max_len:\n",
    "        plt.subplot(2,2,1)\n",
    "        plt.plot(df['iter'],df['learning_rate'])\n",
    "        plt.subplot(2,2,2)\n",
    "        plt.plot(df['iter'],df['epsilon'])\n",
    "\n",
    "        plt.subplot(2,2,3)\n",
    "    #     plt.plot(df['iter'],df['last_1_avg'])\n",
    "        plt.plot(df['iter'],df['last_10_avg'])\n",
    "        plt.plot(df['iter'],df['last_100_avg'])\n",
    "        plt.plot(df['iter'],df['max_score_log'])\n",
    "        plt.subplot(2,2,4)\n",
    "        plt.plot(df['iter'][df['iter']>=max(max(df['iter'])-50,1)],df['loss_predict'][df['iter']>=max(max(df['iter'])-50,1)])\n",
    "        plt.plot(df['iter'][df['iter']>=max(max(df['iter'])-50,1)],df['loss_train'][df['iter']>=max(max(df['iter'])-50,1)])\n",
    "        clear_output(wait=True)\n",
    "        plt.show()\n",
    "        max_len=max(max_len,current_len)\n",
    "    sleep(1)\n",
    "    "
   ]
  },
  {
   "cell_type": "code",
   "execution_count": 13,
   "metadata": {},
   "outputs": [
    {
     "data": {
      "text/plain": [
       "904"
      ]
     },
     "execution_count": 13,
     "metadata": {},
     "output_type": "execute_result"
    }
   ],
   "source": [
    "max(current_len-50,1)"
   ]
  },
  {
   "cell_type": "code",
   "execution_count": 10,
   "metadata": {},
   "outputs": [
    {
     "data": {
      "text/plain": [
       "895"
      ]
     },
     "execution_count": 10,
     "metadata": {},
     "output_type": "execute_result"
    }
   ],
   "source": [
    "max_len"
   ]
  }
 ],
 "metadata": {
  "kernelspec": {
   "display_name": "Python 3",
   "language": "python",
   "name": "python3"
  },
  "language_info": {
   "codemirror_mode": {
    "name": "ipython",
    "version": 3
   },
   "file_extension": ".py",
   "mimetype": "text/x-python",
   "name": "python",
   "nbconvert_exporter": "python",
   "pygments_lexer": "ipython3",
   "version": "3.6.4"
  }
 },
 "nbformat": 4,
 "nbformat_minor": 2
}
