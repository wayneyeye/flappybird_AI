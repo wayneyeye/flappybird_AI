{
 "cells": [
  {
   "cell_type": "code",
   "execution_count": 8,
   "metadata": {},
   "outputs": [
    {
     "name": "stdout",
     "output_type": "stream",
     "text": [
      "INFO:tensorflow:Scale of 0 disables regularizer.\n"
     ]
    }
   ],
   "source": [
    "import pickle\n",
    "import numpy as np\n",
    "import tensorflow as tf\n",
    "import matplotlib.pyplot as plt\n",
    "import random\n",
    "\n",
    "def convpool(X,W,b):\n",
    "    conv_out=tf.nn.conv2d(X,W,strides=[1,1,1,1],padding=\"SAME\")\n",
    "    conv_out=tf.nn.bias_add(conv_out,b)\n",
    "    conv_out=tf.nn.elu(conv_out)\n",
    "    pool_out=tf.nn.max_pool(conv_out,ksize=[1,2,2,1],strides=[1,2,2,1],padding='SAME')\n",
    "    return pool_out\n",
    "\n",
    "def init_filter(shape,poolsz):\n",
    "    w=np.random.randn(*shape)/np.sqrt(np.prod(shape[:-1])+shape[-1]*np.prod(shape[:-2]/np.prod(poolsz)))\n",
    "    return w.astype(np.float32)\n",
    "\n",
    "from functools import partial\n",
    "he_init = tf.contrib.layers.variance_scaling_initializer(mode=\"FAN_AVG\") # he init method\n",
    "scale=0.0\n",
    "my_dense=partial(tf.layers.dense,activation=tf.nn.elu,\n",
    "                 kernel_regularizer=tf.contrib.layers.l1_regularizer(scale),\n",
    "                 kernel_initializer=he_init)\n",
    "\n"
   ]
  },
  {
   "cell_type": "code",
   "execution_count": 26,
   "metadata": {},
   "outputs": [],
   "source": [
    "cae_checkpoints_savepath=\"model_checkpoints_large/CAE_04302018_2layers_xsmall.ckpt\"\n",
    "checkpoints_savepath=\"model_checkpoints_large/DQN_cae_05092018_v1.ckpt\"\n",
    "\n",
    "pool_sz=(2,2)\n",
    "\n",
    "n_hidden1=100\n",
    "n_hidden2=200\n",
    "n_hidden3=40\n",
    "n_outputs=2\n",
    "\n",
    "tf.reset_default_graph()\n",
    "\n",
    "# cnn_pool layer 1\n",
    "W1_shape=(4,4,3,10)\n",
    "W1_init=init_filter(W1_shape,pool_sz)\n",
    "b1_init=np.zeros(W1_shape[-1],dtype=np.float32)\n",
    "\n",
    "# cnn_pool layer 2\n",
    "W2_shape=(4,4,10,3)\n",
    "W2_init=init_filter(W2_shape,pool_sz)\n",
    "b2_init=np.zeros(W2_shape[-1],dtype=np.float32)\n",
    "X=tf.placeholder(tf.float32,shape=(None,2,128,128,3),name=\"X\")\n",
    "\n",
    "with tf.name_scope(\"cnn\"):\n",
    "    with tf.device(\"/cpu:0\"):\n",
    "        W1=tf.Variable(W1_init.astype(np.float32),trainable=False,name='W1')\n",
    "        b1=tf.Variable(b1_init.astype(np.float32),trainable=False,name='b1')\n",
    "        W2=tf.Variable(W2_init.astype(np.float32),trainable=False,name='W2')\n",
    "        b2=tf.Variable(b2_init.astype(np.float32),trainable=False,name='b2')\n",
    "    \n",
    "    # first frame\n",
    "    with tf.device(\"/cpu:0\"):\n",
    "        X1=tf.reshape(tf.slice(X,[0,0,0,0,0],[-1,1,-1,-1,-1]),[-1,128,128,3])\n",
    "        Z11=convpool(X1,W1,b1)\n",
    "        Z12=convpool(Z11,W2,b2)\n",
    "    \n",
    "    # second frame\n",
    "    with tf.device(\"/cpu:0\"):\n",
    "        X2=tf.reshape(tf.slice(X,[0,1,0,0,0],[-1,1,-1,-1,-1]),[-1,128,128,3])\n",
    "        Z21=convpool(X2,W1,b1)\n",
    "        Z22=convpool(Z21,W2,b2)\n",
    "\n",
    "with tf.name_scope(\"cnn_output\"):\n",
    "    with tf.device(\"/cpu:0\"):\n",
    "        # take the difference of two frames\n",
    "        Z_diff=Z22-Z12\n",
    "\n",
    "with tf.name_scope(\"dense_layers\"):\n",
    "    with tf.device(\"/cpu:0\"):\n",
    "        # fully connected layer\n",
    "        hidden1=my_dense(Z_diff,n_hidden1)\n",
    "        hidden2=my_dense(hidden1,n_hidden2)\n",
    "        hidden3=my_dense(hidden2,n_hidden3)\n",
    "        q_values=my_dense(hidden3,n_outputs)\n",
    "        \n",
    "with tf.name_scope(\"target_q\"):\n",
    "    with tf.device(\"/cpu:0\"):\n",
    "        q_target=tf.placeholder(tf.float32,shape=[None,n_outputs])\n",
    "        \n",
    "        \n",
    "with tf.name_scope(\"training_op\"):\n",
    "    with tf.device(\"/cpu:0\"):\n",
    "        learning_rate=tf.placeholder(tf.float32,shape=[])\n",
    "        mse_loss=tf.reduce_mean(tf.squared_difference(q_values,q_target))\n",
    "        optimizer=tf.train.AdamOptimizer(learning_rate)\n",
    "        training_op=optimizer.minimize(mse_loss)\n",
    "        init=tf.global_variables_initializer()\n",
    "        \n",
    "\n",
    "with tf.name_scope(\"saver\"):\n",
    "    var_list={'cnn/Variable':W1,'cnn/Variable_1':b1,'cnn/Variable_2':W2,'cnn/Variable_3':b2}\n",
    "#     var_list={'cnn/Variable:0':W1}\n",
    "    saver_cae_restore = tf.train.Saver(var_list=var_list)\n",
    "    saver_whole = tf.train.Saver()\n",
    "    "
   ]
  },
  {
   "cell_type": "markdown",
   "metadata": {},
   "source": [
    "training the network"
   ]
  },
  {
   "cell_type": "markdown",
   "metadata": {},
   "source": [
    "If you want to restore a subset of the variable and/or they variables in the checkpoint have different names, you can pass a dictionary as the var_list argument. By default, each variable in a checkpoint is associated with a key, which is the value of its tf.Variable.name property. If the name is different in the target graph (e.g. because you added a scope prefix), you can specify a dictionary that maps string keys (in the checkpoint file) to tf.Variable objects (in the target graph)."
   ]
  },
  {
   "cell_type": "code",
   "execution_count": 27,
   "metadata": {},
   "outputs": [
    {
     "name": "stdout",
     "output_type": "stream",
     "text": [
      "INFO:tensorflow:Restoring parameters from model_checkpoints_large/CAE_04302018_2layers_xsmall.ckpt\n"
     ]
    }
   ],
   "source": [
    "init=tf.global_variables_initializer()\n",
    "train_mse_save=[]\n",
    "test_mse_save=[]\n",
    "with tf.Session() as sess:\n",
    "    init.run()\n",
    "    try:\n",
    "        saver_cae_restore.restore(sess, cae_checkpoints_savepath)\n",
    "    except:\n",
    "        print(\"restoring error, will start over!\")\n",
    "    "
   ]
  }
 ],
 "metadata": {
  "kernelspec": {
   "display_name": "Python 3",
   "language": "python",
   "name": "python3"
  },
  "language_info": {
   "codemirror_mode": {
    "name": "ipython",
    "version": 3
   },
   "file_extension": ".py",
   "mimetype": "text/x-python",
   "name": "python",
   "nbconvert_exporter": "python",
   "pygments_lexer": "ipython3",
   "version": "3.6.4"
  }
 },
 "nbformat": 4,
 "nbformat_minor": 2
}
